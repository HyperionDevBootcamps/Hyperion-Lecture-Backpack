{
 "cells": [
  {
   "cell_type": "markdown",
   "metadata": {},
   "source": [
    "## Lecture Housekeeping:\n",
    "\n",
    "- The use of disrespectful language is prohibited in the questions, this is a supportive, learning environment for all - please engage accordingly.\n",
    "    - Please review Code of Conduct (in Student Undertaking Agreement) if unsure\n",
    "- No question is daft or silly - ask them!\n",
    "- There are Q&A sessions midway and at the end of the session, should you wish to ask any follow-up questions.\n",
    "- Should you have any questions after the lecture, please schedule a mentor session.\n",
    "- For all non-academic questions, please submit a query: [www.hyperiondev.com/support](www.hyperiondev.com/support)\n"
   ]
  },
  {
   "cell_type": "markdown",
   "metadata": {},
   "source": [
    "## Project workflow and Documentation\n",
    "\n",
    "#### Learning objectives\n",
    "\n",
    "- Explain PEPs and what they are used for.\n",
    "- Implement vitual environments within your workflow.\n",
    "- Use linters to reduces style error and improve your code.\n",
    "- Use Sphinx to generate documentation for your programs.\n",
    "\n"
   ]
  },
  {
   "cell_type": "markdown",
   "metadata": {},
   "source": [
    "##### PEPs\n",
    "\n",
    "- PEPs stand for Python Enhancement Proposals.\n",
    "- They are design documents for proposing changes to Python.\n",
    "- PEPs describe new features, improvements, or modifications to the language and its standard library.\n",
    "- They help maintain Python's consistency and allow for collaborative contributions.\n",
    "- Each PEP follows a structured format with a title, author, status, and detailed specification.\n",
    "- PEPs provide transparency and a clear path for implementing proposed changes in Python."
   ]
  },
  {
   "cell_type": "markdown",
   "metadata": {},
   "source": [
    "##### Virtual Environment\n",
    "\n",
    "- Python virtual environments are isolated environments for Python projects.\n",
    "- They allow you to manage dependencies and packages independently for each project.\n",
    "- Virtual environments prevent conflicts between different project's dependencies.\n",
    "- You can activate and deactivate virtual environments to switch between projects.\n",
    "- Virtual environments are essential for clean and organized Python development.\n",
    "\n"
   ]
  },
  {
   "cell_type": "markdown",
   "metadata": {},
   "source": [
    "##### Linters\n",
    "\n",
    "- Python linters are tools that analyze Python code for style and potential errors.\n",
    "- They help maintain code quality and consistency in a project.\n",
    "- Linters check for adherence to style guides like PEP 8.\n",
    "- They identify issues such as syntax errors, unused variables, and more.\n",
    "- Using linters can improve code readability, maintainability, and reliability."
   ]
  },
  {
   "cell_type": "markdown",
   "metadata": {},
   "source": [
    "##### Sphinx\n",
    "\n",
    "- Sphinx is a documentation generator that automates the process of creating and formatting documentation for Python projects.\n",
    "- It generates documentation in various formats, including HTML, PDF, and ePub.\n",
    "- It is highly extensible and can be customized to meet specific documentation needs.\n",
    "- Sphinx is widely used in open-source projects and is a valuable tool for creating clear and organized documentation."
   ]
  },
  {
   "cell_type": "markdown",
   "metadata": {},
   "source": [
    "# Questions and Answers\n",
    "Questions around Project workflow and Documentation"
   ]
  },
  {
   "cell_type": "markdown",
   "metadata": {},
   "source": [
    "# Thank you for joining!\n",
    "\n",
    "## Please remember to:\n",
    "- Take regular breaks.\n",
    "- Stay hydrated.\n",
    "- Avoid prolonged screen time.\n",
    "- Don't slouch!\n",
    "- Remember to have fun :)\n"
   ]
  }
 ],
 "metadata": {
  "language_info": {
   "name": "python"
  },
  "orig_nbformat": 4
 },
 "nbformat": 4,
 "nbformat_minor": 2
}
