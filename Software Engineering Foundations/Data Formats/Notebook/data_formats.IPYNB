{
 "cells": [
  {
   "cell_type": "markdown",
   "metadata": {},
   "source": [
    "## Lecture Housekeeping:\n",
    "\n",
    "- The use of disrespectful language is prohibited in the questions, this is a supportive, learning environment for all - please engage accordingly.\n",
    "    - Please review Code of Conduct (in Student Undertaking Agreement) if unsure\n",
    "- No question is daft or silly - ask them!\n",
    "- There are Q&A sessions midway and at the end of the session, should you wish to ask any follow-up questions.\n",
    "- Should you have any questions after the lecture, please schedule a mentor session.\n",
    "- For all non-academic questions, please submit a query: [www.hyperiondev.com/support](www.hyperiondev.com/support)\n"
   ]
  },
  {
   "cell_type": "markdown",
   "metadata": {},
   "source": [
    "## Data Formats\n",
    "\n",
    "#### Learning objectives\n",
    "\n",
    "- Data Formats\n",
    "    - Explain json, xml and csv files and their uses.\n",
    "    - Use json, xml and csv external sources within your python code.\n",
    "\n",
    "\n"
   ]
  },
  {
   "cell_type": "markdown",
   "metadata": {},
   "source": [
    "### Data sources\n",
    "\n",
    "- Our computer storage drive has a hierarchical structure of files and directories\n",
    "- Files\n",
    "    - Resource containing information\n",
    "    - Different file types for text, audio, video\n",
    "- Directories\n",
    "    - Where we house our files\n",
    "    - Can also house other directories"
   ]
  },
  {
   "cell_type": "markdown",
   "metadata": {},
   "source": [
    "\n",
    "### JSON\n",
    "\n",
    "- Syntax used for storing/exchanging unstructured data\n",
    "- Uses “.json” extension\n",
    "- Can be used with many programming languages such as python, java, c# etc\n",
    "- Key-value pair structure similar to python dictionary\n",
    "- Data can be of any type int, string, bool, list\n",
    "- Easy to transmit between a web server and client/browser\n",
    "- Can use an API to retrieve JSON data\n",
    "- JSON linters can be used to check format/structure of JSON files.\n"
   ]
  },
  {
   "cell_type": "markdown",
   "metadata": {},
   "source": [
    "#### Read JSON"
   ]
  },
  {
   "cell_type": "code",
   "execution_count": 4,
   "metadata": {},
   "outputs": [
    {
     "name": "stdout",
     "output_type": "stream",
     "text": [
      "Homegoing\n"
     ]
    }
   ],
   "source": [
    "import json\n",
    "\n",
    "with open(\"books.json\", \"r\") as json_file:\n",
    "    json_data = json.load(json_file)\n",
    "    books_list = json_data[\"books\"]\n",
    "    my_dict = books_list[0]\n",
    "    print(my_dict[\"title\"])"
   ]
  },
  {
   "cell_type": "markdown",
   "metadata": {},
   "source": [
    "#### Write JSON"
   ]
  },
  {
   "cell_type": "code",
   "execution_count": 5,
   "metadata": {},
   "outputs": [],
   "source": [
    "data = {\n",
    "        \"Name\" : \"David\",\n",
    "        \"Surname\" : \"Miller\",\n",
    "        \"Age\" : 36,\n",
    "        \"Height\" : 1.8,\n",
    "        \"Weight\" : 90 \n",
    "}\n",
    "\n",
    "with open(\"player.json\", \"w\") as json_file:\n",
    "    json.dump(data, json_file)"
   ]
  },
  {
   "cell_type": "markdown",
   "metadata": {},
   "source": [
    "## XML\n",
    "\n",
    "- eXtensible Markup Language\n",
    "- Commonly used to store data for data scientists and transmitting data over the internet\n",
    "- Has a different format to JSON and Python data structures\n",
    "- Where JSON can be easily parsed into a python function, an XML file requires an XML parser\n"
   ]
  },
  {
   "cell_type": "code",
   "execution_count": 9,
   "metadata": {},
   "outputs": [
    {
     "name": "stdout",
     "output_type": "stream",
     "text": [
      "menu\n",
      "{}\n",
      "meal {'type': 'Breakfast'}\n",
      "Belgian Waffles:\n",
      "Price: 20.00\n",
      "Description:\n",
      "\tTwo of our famous Belgian Waffles with plenty\n",
      "         of syrup on top\n",
      "meal {'type': 'Lunch'}\n"
     ]
    }
   ],
   "source": [
    "import xml.etree.ElementTree as ET\n",
    "\n",
    "tree = ET.parse(\"menu.xml\")\n",
    "\n",
    "root = tree.getroot()\n",
    "\n",
    "print(root.tag)\n",
    "print(root.attrib)\n",
    "\n",
    "for meal in root:\n",
    "    print(meal.tag, meal.attrib)\n",
    "    if meal.attrib[\"type\"] == \"Breakfast\":\n",
    "        print(f\"{meal[0].text}:\\nPrice: {meal[1].text}\\nDescription:\\n\\t{meal[2].text}\")"
   ]
  },
  {
   "cell_type": "markdown",
   "metadata": {},
   "source": [
    "## CSV\n",
    "\n",
    "- Contains a list of Comma Separated Values\n",
    "- Simplest possible format for data\n",
    "- Used to exchange large chunks of data between systems\n",
    "- Supported by many tools such as spreadsheet programs, complex databases and most programming languages\n",
    "- Easily human and machine readable\n"
   ]
  },
  {
   "cell_type": "code",
   "execution_count": 11,
   "metadata": {},
   "outputs": [
    {
     "name": "stdout",
     "output_type": "stream",
     "text": [
      "John\n",
      "Sarah\n",
      "Michael\n",
      "Emily\n",
      "David\n",
      "Olivia\n",
      "James\n",
      "Emma\n",
      "William\n",
      "Sophia\n"
     ]
    }
   ],
   "source": [
    "import csv\n",
    "\n",
    "with open(\"data.csv\", \"r\") as csv_file:\n",
    "    csvreader = csv.reader(csv_file)\n",
    "    for row in csvreader:\n",
    "        print(row[0])"
   ]
  },
  {
   "cell_type": "markdown",
   "metadata": {},
   "source": [
    "# Questions and Answers\n",
    "Questions around JSON, XML or CSV files"
   ]
  },
  {
   "cell_type": "markdown",
   "metadata": {},
   "source": [
    "# Thank you for joining!\n",
    "\n",
    "## Please remember to:\n",
    "- Take regular breaks.\n",
    "- Stay hydrated.\n",
    "- Avoid prolonged screen time.\n",
    "- Remember to have fun :)\n"
   ]
  }
 ],
 "metadata": {
  "kernelspec": {
   "display_name": "venv",
   "language": "python",
   "name": "python3"
  },
  "language_info": {
   "codemirror_mode": {
    "name": "ipython",
    "version": 3
   },
   "file_extension": ".py",
   "mimetype": "text/x-python",
   "name": "python",
   "nbconvert_exporter": "python",
   "pygments_lexer": "ipython3",
   "version": "3.11.4"
  },
  "orig_nbformat": 4
 },
 "nbformat": 4,
 "nbformat_minor": 2
}
