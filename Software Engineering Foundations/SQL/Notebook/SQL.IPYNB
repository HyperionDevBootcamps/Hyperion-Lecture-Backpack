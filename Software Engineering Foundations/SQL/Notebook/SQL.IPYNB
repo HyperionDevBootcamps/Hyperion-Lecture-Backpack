{
 "cells": [
  {
   "cell_type": "markdown",
   "metadata": {},
   "source": [
    "## Lecture Housekeeping:\n",
    "\n",
    "- The use of disrespectful language is prohibited in the questions, this is a supportive, learning environment for all - please engage accordingly.\n",
    "    - Please review Code of Conduct (in Student Undertaking Agreement) if unsure\n",
    "- No question is daft or silly - ask them!\n",
    "- There are Q&A sessions midway and at the end of the session, should you wish to ask any follow-up questions.\n",
    "- Should you have any questions after the lecture, please schedule a mentor session.\n",
    "- For all non-academic questions, please submit a query: [www.hyperiondev.com/support](www.hyperiondev.com/support)\n"
   ]
  },
  {
   "cell_type": "markdown",
   "metadata": {},
   "source": [
    "## SQL\n",
    "\n",
    "#### Learning objectives\n",
    "\n",
    "- SQL\n",
    "    - Define SQL and why we use it.\n",
    "    - Describe CRUD.\n",
    "    - Implement CRUD operations using SQL.\n",
    "\n"
   ]
  },
  {
   "cell_type": "markdown",
   "metadata": {},
   "source": [
    "#### What is SQL?\n",
    "\n",
    "It stands for Structured Query Language (SQL)  \n",
    "  \n",
    "SQL is a database language that is composed of commands that enable users to create databases or table structures, perform various types of data manipulation and data administration as well as query the database to extract useful information.\n"
   ]
  },
  {
   "cell_type": "markdown",
   "metadata": {},
   "source": [
    "#### Why SQL?\n",
    "\n",
    "SQL is easy to learn since its vocabulary is relatively simple. Its basic command set has a vocabulary of fewer than 100 words. It is also a non-procedural language,which means that the user specifies what must be done and not how it should be done.  \n",
    "   \n",
    "Users do not need to know the physical data storage format or the complex activities that take place when a SQL command is executed in order to issue a command."
   ]
  },
  {
   "cell_type": "markdown",
   "metadata": {},
   "source": [
    "#### Important keywords\n",
    "\n",
    "- **CREATE TABLE:** Creates a new table\n",
    "- **NOT NULL:** Ensures that a column doesn’t contain null values\n",
    "- **UNIQUE:** Ensures that there are no repetitions\n",
    "- **PRIMARY KEY:** Defines a primary key\n",
    "- **DROP TABLE:** Deletes a table entirely\n",
    "- **INSERT:**  Inserts rows into a table\n",
    "- **SELECT:** Select attributes from a row\n",
    "- **WHERE:** Restricts the selection of rows based on a conditional expression.\n",
    "- **UPDATE:** Modifies an attribute’s values in a table\n",
    "- **ORDER BY:** Orders the selected rows by a specific column. Can specify ASCENDING or DESCENDING\n",
    "- **DELETE:** Deletes one or more rows from a table"
   ]
  },
  {
   "cell_type": "markdown",
   "metadata": {},
   "source": [
    "#### Special operators\n",
    "\n",
    "- These keywords are used in conditions.\n",
    "- **BETWEEN:** Checks if a value is within range\n",
    "- **IS NULL:** Checks if a value is null\n",
    "- **LIKE:** Checks if a string matches a given pattern (regular expression)\n",
    "- **IN:** Checks if a value is in a given list\n",
    "- **EXISTS:** Checks if a query returns any rows\n",
    "- **DISTINCT:** Limits to unique values"
   ]
  },
  {
   "cell_type": "markdown",
   "metadata": {},
   "source": [
    "##### CRUD\n",
    "\n",
    "- Acronym that stands for Create, Read, Update, and Delete.\n",
    "- Represents the four basic operations that can be performed on data in a relational database using a data manipulation language such as SQL.\n"
   ]
  },
  {
   "cell_type": "markdown",
   "metadata": {},
   "source": [
    "##### Creating a table\n",
    "\n",
    "To create new tables in SQL, you use the CREATE TABLE statement. Pass all the columns you want in the table, as well as their data types, as arguments to the CREATE TABLE function. \n",
    "The syntax of the CREATE TABLE statement is shown below:\n",
    "  \n",
    "  \n",
    "`CREATE TABLE table_name (`  \n",
    "`   \t column1_name  datatype  constraint,`  \n",
    "`    \tcolumn2_name  datatype  constraint,`  \n",
    "`    \tcolumn3_name  datatype  constraint,`  \n",
    "`…`  \n",
    "`);`"
   ]
  },
  {
   "attachments": {
    "sql table.png": {
     "image/png": "[encoded data removed]"
    }
   },
   "cell_type": "markdown",
   "metadata": {},
   "source": [
    "To create a table called Employee, for example, that contains five columns (EmployeeID, LastName, FirstName, Address, and PhoneNumber), you would use the following SQL:\n",
    "\n",
    "`CREATE TABLE Employee (`  \n",
    "`    EmployeeID int NOT NULL,`  \n",
    "`    LastName varchar(255) NOT NULL,`  \n",
    "`    FirstName varchar(255),`  \n",
    "`    Address varchar(255),`  \n",
    "`    PhoneNumber varchar(255),`  \n",
    "`);`\n",
    "\n",
    "The CREATE TABLE statement above will create an empty Employee table that will look like this:\n",
    "\n",
    "![sql table.png](<attachment:sql table.png>)"
   ]
  },
  {
   "cell_type": "markdown",
   "metadata": {},
   "source": [
    "##### Inserting values\n",
    "\n",
    "There are two ways to write the INSERT INTO command:\n",
    "1. You do not have to specify the column names where you intend to insert the data. This can be done if you are adding values for all of the columns of the table. However, you should ensure that the order of the values is in the same order as the columns in the table. The syntax will be as follows:\n",
    "\n",
    "`INSERT INTO table_name\n",
    "\tVALUES (value1, value2, value3,...);`\n",
    "\n",
    "2. The other way to insert data into a table is to specify both the column names and the values to be inserted. The syntax will be as follows:\n",
    "\n",
    "`INSERT INTO Employee (column1, column2, column3, …)\n",
    "\tVALUES (value1, value2, value3,...);`\n",
    "\n",
    "\n",
    "##### Examples\n",
    "\n",
    "`INSERT INTO Employee`  \n",
    "`\tVALUES (1, 'Smith', 'John', '25 Oak Rd', '0837856767');`\n",
    "\n",
    "OR\n",
    "\n",
    "`INSERT INTO Employee (EmployeeID, LastName, FirstName, Address, PhoneNumber)`  \n",
    "`\tVALUES (1234, 'Smith', 'John', '25 Oak Rd', '0837856767');`"
   ]
  },
  {
   "cell_type": "markdown",
   "metadata": {},
   "source": [
    "#### Retrieving data\n",
    "\n",
    "The SELECT statement is used to fetch data from a database. The data returned is stored in a result table, known as the result-set. The syntax of a SELECT statement is as follows:\n",
    "\n",
    "`SELECT column1, column2,...`\n",
    "`FROM table_name;`\n",
    "\n",
    "`SELECT FirtsName, LastName,...`\n",
    "`FROM Employee;`\n",
    "\n",
    "\n",
    "If you want to select all the columns in the table, you use the following syntax:\n",
    "\n",
    "`SELECT * FROM table_name`"
   ]
  },
  {
   "cell_type": "markdown",
   "metadata": {},
   "source": [
    "#### Ordering values\n",
    "\n",
    "You can use the ORDER BY command to sort the results returned in ascending or descending order. The ORDER BY command sorts the records in ascending order by default. You need to use the DESC keyword to sort the records in descending order.\n",
    "\n",
    "`SELECT * FROM table_name`\n",
    "`ORDER BY column1 DESC;`\n",
    "\n",
    "`SELECT * FROM Employee`\n",
    "`ORDER BY FirstName DESC;`"
   ]
  },
  {
   "cell_type": "markdown",
   "metadata": {},
   "source": [
    "#### Using WHERE, IN and BETWEEN keywords\n",
    "\n",
    "`SELECT * FROM Employee`  \n",
    "`WHERE FirstName='John';`\n",
    "\n",
    "`SELECT * FROM albums `  \n",
    "`WHERE genre IN ('pop', 'soul');`\n",
    "\n",
    "`SELECT * FROM albums `  \n",
    "`WHERE released BETWEEN 1975 AND 1985;`\n"
   ]
  },
  {
   "cell_type": "markdown",
   "metadata": {},
   "source": [
    "#### Update Values\n",
    "\n",
    "The UPDATE statement is used to modify the existing rows in a table.\n",
    "To use the UPDATE statement you:\n",
    "● Choose the table where the row you want to change is located.\n",
    "● Set the new value(s) for the desired column(s).\n",
    "● Select which of the rows you want to update using the WHERE    statement. If you omit this, all rows in the table will change.\n",
    "\n",
    "`UPDATE table_name`  \n",
    "`SET column1 = value1,  column2 = value2, …`  \n",
    "`WHERE condition;`\n"
   ]
  },
  {
   "cell_type": "markdown",
   "metadata": {},
   "source": [
    "#### Deleting rows\n",
    "\n",
    "Deleting a row is a simple process. All you need to do is select the right table androw that you want to remove. The DELETE statement is used to delete existing rows in a table.\n",
    "\n",
    "`DELETE FROM table_name `  \n",
    "`WHERE condition;`  \n",
    "\n",
    "`DELETE FROM Customer `  \n",
    "`WHERE CustomerID = 4;`  \n",
    "\n",
    "You can also delete all rows in a table without deleting the table:\n",
    "\n",
    "`DELETE * FROM table_name;`\n",
    "\n",
    "\n",
    "The DROP TABLE statement is used to remove every trace of a table in a database.\n",
    "\n",
    "`DROP TABLE table_name;`"
   ]
  },
  {
   "cell_type": "markdown",
   "metadata": {},
   "source": [
    "# Questions and Answers\n",
    "Questions around SQL"
   ]
  },
  {
   "cell_type": "markdown",
   "metadata": {},
   "source": [
    "# Thank you for joining!\n",
    "\n",
    "## Please remember to:\n",
    "- Take regular breaks.\n",
    "- Stay hydrated.\n",
    "- Avoid prolonged screen time.\n",
    "- Don't slouch!\n",
    "- Remember to have fun :)\n"
   ]
  }
 ],
 "metadata": {
  "language_info": {
   "name": "python"
  },
  "orig_nbformat": 4
 },
 "nbformat": 4,
 "nbformat_minor": 2
}
