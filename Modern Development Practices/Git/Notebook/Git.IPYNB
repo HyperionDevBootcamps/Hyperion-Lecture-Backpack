{
 "cells": [
  {
   "cell_type": "markdown",
   "metadata": {},
   "source": [
    "## Lecture Housekeeping:\n",
    "\n",
    "- The use of disrespectful language is prohibited in the questions, this is a supportive, learning environment for all - please engage accordingly.\n",
    "    - Please review Code of Conduct (in Student Undertaking Agreement) if unsure\n",
    "- No question is daft or silly - ask them!\n",
    "- There are Q&A sessions midway and at the end of the session, should you wish to ask any follow-up questions.\n",
    "- Should you have any questions after the lecture, please schedule a mentor session.\n",
    "- For all non-academic questions, please submit a query: [www.hyperiondev.com/support](www.hyperiondev.com/support)\n"
   ]
  },
  {
   "cell_type": "markdown",
   "metadata": {},
   "source": [
    "#### Learning objectives\n",
    "\n",
    "- Define version control and its uses.\n",
    "- Demonstrate how to create a repository then add and commit files to this repository.\n",
    "- State the necessary documentation for your git repository.\n",
    "\n"
   ]
  },
  {
   "cell_type": "markdown",
   "metadata": {},
   "source": [
    "Github Download/Cheat sheet\n",
    "\n",
    "Git download: https://git-scm.com/downloads  \n",
    "Install guide: https://github.com/git-guides/install-git  \n",
    "Cheat sheet: https://education.github.com/git-cheat-sheet-education.pdf  "
   ]
  },
  {
   "cell_type": "markdown",
   "metadata": {},
   "source": [
    "##### What is Version control?\n",
    "\n",
    "- Also referred to as source control.\n",
    "- It is a system that tracks and manages changes to software code.\n",
    "\n",
    "##### Why Version Control?\n",
    "\n",
    "**Collaboration:**  \n",
    "- Multiple people working on the same file at the same time.\n",
    "- Hard to keep track of what changes happen when.\n",
    "- Certain changes can be accidentally overwritten.\n",
    "\n",
    "**Storing Versions:**  \n",
    "- Being able to rollback code becomes a great emergency tactic, when bugs become too difficult to handle.\n",
    "\n",
    "**Understanding What Happened:**  \n",
    "- Full history of who made what changes.\n",
    "\n",
    "\n"
   ]
  },
  {
   "cell_type": "markdown",
   "metadata": {},
   "source": [
    "##### Introducing Git\n",
    "\n",
    "- Most widely used version control system.\n",
    "- Free and open-source. Designed to handle a large variety of systems.\n",
    "- Distributed architecture:\n",
    "    - When you download a repository, you download the full history of changes to your local computer.\n",
    "- Everything is run from the command-line using the git application.\n"
   ]
  },
  {
   "cell_type": "markdown",
   "metadata": {},
   "source": [
    "##### Repositories\n",
    "\n",
    "- Two types: local and remote.\n",
    "- All changes stored in a hidden file called “.git”.\n",
    "- Two ways to get a repository:\n",
    "    - Create a new one using git init.\n",
    "    - Get a remote one using git clone \\<repository-url\\>."
   ]
  },
  {
   "cell_type": "markdown",
   "metadata": {},
   "source": [
    "##### Committing Code\n",
    "\n",
    "- First, you need to add your files to the staging area.\n",
    "    - git add \\<file-name\\>\n",
    "- Once you have added all files to the staging area, then you can commit your code.\n",
    "    - git commit -m \\<commit-message\\>\n",
    "    - NB: Each commit has to have a message attached to it.\n",
    "    - This just explains what what changed.\n"
   ]
  },
  {
   "cell_type": "markdown",
   "metadata": {},
   "source": [
    "##### Viewing the Status of your Commit\n",
    "\n",
    "- **git status**\n",
    "    -Shows all new files, changed files, and files added to the current commit.\n",
    "\n",
    "- E.g:  \n",
    "\n",
    "On branch master  \n",
    "Your branch is up-to-date with 'origin/master'.  \n",
    "Changes to be committed:  \n",
    "  (use \"git reset HEAD \\<file\\>...\" to unstage)  \n",
    "  \n",
    "    new file:   newFile.py\n",
    "\n",
    "\n"
   ]
  },
  {
   "cell_type": "markdown",
   "metadata": {},
   "source": [
    "##### Viewing your Version History\n",
    "\n",
    "- **git log**\n",
    "- Shows the commit hash (a unique identifier for the commit), Author, Date and the commit message.\n",
    "\n",
    "- E.g:  \n",
    "\n",
    "commit a9ca2c9f4e1e0061075aa47cbb97201a43b0f66f   \n",
    "Author: HyperionDev Student <hyperiondevstudent@gmail.com>   \n",
    "Date: Mon Sep 8 6:49:17 2017 +0200  \n",
    "  \n",
    "Initial commit.  \n",
    "\n"
   ]
  },
  {
   "attachments": {
    "branching.png": {
     "image/png": "[encoded data removed]"
    }
   },
   "cell_type": "markdown",
   "metadata": {},
   "source": [
    "##### Branching\n",
    "\n",
    "- Sometimes, a developer needs to work independently on the same code base.\n",
    "- For example: adding a new feature.\n",
    "- With other changes constantly being made, this can sometimes be difficult and cause many merge conflicts.\n",
    "- Solution: branching.\n",
    "- **git branch <branch-name>**\n",
    "- To switch branches:\n",
    "    - git checkout <branch-name>\n",
    "- By default, Git uses master as the name of the main branch.\n",
    "\n",
    "![branching.png](attachment:branching.png)\n"
   ]
  },
  {
   "cell_type": "markdown",
   "metadata": {},
   "source": [
    "##### Stashing Changes\n",
    "\n",
    "- When switching branches, Git will throw up a fuss if you have uncommitted changes.\n",
    "- However, sometimes your changes are not yet ready for a commit.\n",
    "- You can use **git stash** to temporarily save your changes to a clipboard without committing.\n",
    "- To get your changes back, **git stash pop** will get the latest stash on the clipboard."
   ]
  },
  {
   "cell_type": "markdown",
   "metadata": {},
   "source": [
    "##### Merging\n",
    "\n",
    "- There is no use in branching code to make a new feature without being able to make it a part of the main branch.\n",
    "- Merging allows you to take the changes that you have made in your branch and apply them to the main branch (or another branch of your choice).\n",
    "- To merge bug-fix branch into master branch:\n",
    "    - **git checkout master**\n",
    "    - **git merge bug-fix**\n"
   ]
  },
  {
   "cell_type": "markdown",
   "metadata": {},
   "source": [
    "##### Documentation: Contributors file\n",
    "\n",
    "- CONTRIBUTING.md file is a short guide to how other people can help with your project.\n",
    "- Always good to have in the root directory of your project.\n",
    "- The file also contains data such as:\n",
    "    - Creators and maintainers of the project.\n",
    "    - What parts of the project contributors can work on.\n",
    "    - Conventions to follow when contributing\n",
    "    - How users can use this project to build upon their own.\n"
   ]
  },
  {
   "cell_type": "markdown",
   "metadata": {},
   "source": [
    "##### Documentation: License file\n",
    "\n",
    "- Licences help you manage and share intellectual property for code and materials on GitHub\n",
    "- If you want to consume, share or contribute to anything in GitHub, you have to understand requirements associated with the relevant licence.\n",
    "- For your repository to truly be open source, you'll need to license it so that others are free to use, change, and distribute the software.\n",
    "- You can add a LINCESE.md file to your Github project by adding a new file on Github and typing LICENSE Github will then provide you with an option to generate a license file\n"
   ]
  },
  {
   "cell_type": "markdown",
   "metadata": {},
   "source": [
    "##### Documentation: ReadMe file\n",
    "\n",
    "- The readme file is used to explain the project and how we can install or use it.\n",
    "- It also allows the uploader to add images and different formats to the text to help the reader navigate through the project easily\n",
    "- A well-written readme file is more important if you intend to show these projects in your resume\n"
   ]
  },
  {
   "cell_type": "markdown",
   "metadata": {},
   "source": [
    "# Thank you for joining!\n",
    "\n",
    "## Please remember to:\n",
    "- Take regular breaks.\n",
    "- Stay hydrated.\n",
    "- Avoid prolonged screen time.\n",
    "- Don't slouch!\n",
    "- Remember to have fun :)\n"
   ]
  }
 ],
 "metadata": {
  "language_info": {
   "name": "python"
  }
 },
 "nbformat": 4,
 "nbformat_minor": 2
}
