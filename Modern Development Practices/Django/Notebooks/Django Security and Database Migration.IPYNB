{
 "cells": [
  {
   "cell_type": "markdown",
   "metadata": {},
   "source": [
    "## Lecture Housekeeping:\n",
    "\n",
    "- The use of disrespectful language is prohibited in the questions, this is a supportive, learning environment for all - please engage accordingly.\n",
    "    - Please review Code of Conduct (in Student Undertaking Agreement) if unsure\n",
    "- No question is daft or silly - ask them!\n",
    "- There are Q&A sessions midway and at the end of the session, should you wish to ask any follow-up questions.\n",
    "- Should you have any questions after the lecture, please schedule a mentor session.\n",
    "- For all non-academic questions, please submit a query: [www.hyperiondev.com/support](www.hyperiondev.com/support)\n"
   ]
  },
  {
   "cell_type": "markdown",
   "metadata": {},
   "source": [
    "## Django security and database migration\n",
    "\n",
    "#### Learning objectives\n",
    "- Perform database migrations on your django projects.\n",
    "- Implement authentication to your django webapps.\n",
    "\n"
   ]
  },
  {
   "cell_type": "markdown",
   "metadata": {},
   "source": [
    "##### User Data\n",
    "\n",
    "- When we allow the public to use our webapps we will probably require some information from them to provide a better experience.\n",
    "- When we require this information there is a very high chance that we will get sensitive information from the user or just basic information that we would not want in the hand of malicious actors.\n",
    "- We have to be careful about how we add data to our database and should also restrict who has access to this data."
   ]
  },
  {
   "cell_type": "markdown",
   "metadata": {},
   "source": [
    "##### Encryption and Hashing\n",
    "\n",
    "- When we store user information we will always want to encrypt or hash the data.\n",
    "- We would preferable hash passwords as it is seen as a one way street and is extremely difficult to reverse.\n",
    "- It is important to encode all user data as a compromise on your system might compromise the user on another system as well."
   ]
  },
  {
   "cell_type": "markdown",
   "metadata": {},
   "source": [
    "##### Authentication\n",
    "\n",
    "- We have to be careful about how we add data to our database and should also restrict who has access to this data.\n",
    "- This will allow us to know who the user requesting the data is and if they have permission to access the data or not.\n",
    "- By adding authentication we have an extra layer of protection to our data as the data is not only encrypted but only certain people have access to the data."
   ]
  },
  {
   "cell_type": "markdown",
   "metadata": {},
   "source": [
    "# Questions and Answers\n",
    "Questions around Django security and Authentication"
   ]
  },
  {
   "cell_type": "markdown",
   "metadata": {},
   "source": [
    "# Thank you for joining!\n",
    "\n",
    "## Please remember to:\n",
    "- Take regular breaks.\n",
    "- Stay hydrated.\n",
    "- Avoid prolonged screen time.\n",
    "- Remember to have fun :)\n"
   ]
  }
 ],
 "metadata": {
  "language_info": {
   "name": "python"
  },
  "orig_nbformat": 4
 },
 "nbformat": 4,
 "nbformat_minor": 2
}
