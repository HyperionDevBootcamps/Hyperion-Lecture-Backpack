{
 "cells": [
  {
   "cell_type": "markdown",
   "metadata": {},
   "source": [
    "## Lecture Housekeeping:\n",
    "\n",
    "- The use of disrespectful language is prohibited in the questions, this is a supportive, learning environment for all - please engage accordingly.\n",
    "    - Please review Code of Conduct (in Student Undertaking Agreement) if unsure\n",
    "- No question is daft or silly - ask them!\n",
    "- There are Q&A sessions midway and at the end of the session, should you wish to ask any follow-up questions.\n",
    "- Should you have any questions after the lecture, please schedule a mentor session.\n",
    "- For all non-academic questions, please submit a query: [www.hyperiondev.com/support](www.hyperiondev.com/support)\n"
   ]
  },
  {
   "cell_type": "markdown",
   "metadata": {},
   "source": [
    "#### Learning objectives\n",
    "\n",
    "- Docker\n",
    "    - Describe docker and why we use it.\n",
    "    - Define contanerization and its benefits.\n",
    "    - Use docker to create images from your projects to run ons other machines."
   ]
  },
  {
   "cell_type": "markdown",
   "metadata": {},
   "source": [
    "##### Deployment\n",
    "\n",
    "- Technical name for getting your program out to the world and running on users’ devices\n",
    "- Back in the day deployment happened only once as it was very difficult to update an app after it was deployed\n",
    "- Today most people have access to the internet which makes updating apps much easier and frequent\n",
    "- There are a few ways to deploy an app(Github)\n",
    "- When your application becomes more complex we need a more comprehensive environment"
   ]
  },
  {
   "cell_type": "markdown",
   "metadata": {},
   "source": [
    "##### Typical Deployment\n",
    "\n",
    "- Different apps deploy differently\n",
    "- Mobile apps deploy with systems managed by Google play store or IOS App store\n",
    "- Windows 10 apps use microsoft store\n",
    "- Most common way to deploy web-based apps is using a virtual machine (VM)\n",
    "- Special kind of operating system built to work with data and interact with other programs\n",
    "- Here all your code and its dependencies will be installed"
   ]
  },
  {
   "cell_type": "markdown",
   "metadata": {},
   "source": [
    "##### Docker\n",
    "\n",
    "- Docker is a platform and tool designed to simplify the process of creating, deploying, and managing applications in containers.\n",
    "\n",
    "- Containers are lightweight, portable, and self-contained environments that include everything needed to run an application, including the code, runtime, libraries, and dependencies.\n",
    "\n"
   ]
  },
  {
   "cell_type": "markdown",
   "metadata": {},
   "source": [
    "- **Container:** \n",
    "    - A container is a standalone, executable package that encapsulates an application and its dependencies.\n",
    "- **Docker Image:** \n",
    "    - An image is a read-only template used to create containers. \n",
    "    - It contains a snapshot of an application's file system and configuration.\n",
    "    - Images are built from a set of instructions written in a Dockerfile.\n",
    "- **Dockerfile:** \n",
    "    - File that contains a set of instructions for building a Docker image.\n",
    "    - Adds application code and dependencies, configures settings, and sets up the runtime environment.\n",
    "- **Docker Engine:** \n",
    "    - The Docker Engine is the core component of Docker that manages containers.\n",
    "- **Docker Registry:** \n",
    "    - A Docker registry is a repository for storing and sharing Docker images.\n"
   ]
  },
  {
   "cell_type": "markdown",
   "metadata": {},
   "source": [
    "##### Why use containerization?\n",
    "\n",
    "- **Isolation:**\n",
    "    - Containers provide process and resource isolation, ensuring that applications and their dependencies do not interfere with each other. \n",
    "- **Portability:**\n",
    "    - Containers encapsulate the entire runtime environment, including the application code and dependencies making it easy to move between environments. \n",
    "- **Consistency:**\n",
    "    - Containers ensure that applications run consistently across different systems and platforms.\n",
    "- **Resource Efficiency:**\n",
    "    - Containers share the same host operating system kernel, which makes them lightweight compared to traditional virtual machines (VMs).\n",
    "\n",
    "\n",
    "Containerization has revolutionized software development and deployment by providing a consistent, efficient, and flexible way to package and run applications, making it a fundamental technology in modern IT landscapes."
   ]
  },
  {
   "cell_type": "markdown",
   "metadata": {},
   "source": [
    "# Questions and Answers\n",
    "Questions around Docker"
   ]
  },
  {
   "cell_type": "markdown",
   "metadata": {},
   "source": [
    "# Thank you for joining!\n",
    "\n",
    "## Please remember to:\n",
    "- Take regular breaks.\n",
    "- Stay hydrated.\n",
    "- Avoid prolonged screen time.\n",
    "- Don't slouch!\n",
    "- Remember to have fun :)"
   ]
  }
 ],
 "metadata": {
  "language_info": {
   "name": "python"
  },
  "orig_nbformat": 4
 },
 "nbformat": 4,
 "nbformat_minor": 2
}
