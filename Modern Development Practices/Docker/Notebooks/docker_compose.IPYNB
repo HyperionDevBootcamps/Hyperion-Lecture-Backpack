{
 "cells": [
  {
   "cell_type": "markdown",
   "metadata": {},
   "source": [
    "## Lecture Housekeeping:\n",
    "\n",
    "- The use of disrespectful language is prohibited in the questions, this is a supportive, learning environment for all - please engage accordingly.\n",
    "    - Please review Code of Conduct (in Student Undertaking Agreement) if unsure\n",
    "- No question is daft or silly - ask them!\n",
    "- There are Q&A sessions midway and at the end of the session, should you wish to ask any follow-up questions.\n",
    "- Should you have any questions after the lecture, please schedule a mentor session.\n",
    "- For all non-academic questions, please submit a query: [www.hyperiondev.com/support](www.hyperiondev.com/support)\n"
   ]
  },
  {
   "cell_type": "markdown",
   "metadata": {},
   "source": [
    "## Docker-compose\n",
    "\n",
    "#### Learning objectives\n",
    "- Use Docker-compose to create a multi container docker application.\n",
    "\n"
   ]
  },
  {
   "cell_type": "markdown",
   "metadata": {},
   "source": [
    "##### Docker-compose\n",
    "\n",
    "- Docker Compose is a tool for defining and running multi-container Docker applications.\n",
    "- It provides a way to specify and manage the configuration of multiple Docker containers in a single YAML file.\n",
    "- This makes it easier to develop, deploy, and manage complex applications composed of multiple services."
   ]
  },
  {
   "cell_type": "markdown",
   "metadata": {},
   "source": [
    "# Questions and Answers\n",
    "Questions around Docker-compose"
   ]
  },
  {
   "cell_type": "markdown",
   "metadata": {},
   "source": [
    "# Thank you for joining!\n",
    "\n",
    "## Please remember to:\n",
    "- Take regular breaks.\n",
    "- Stay hydrated.\n",
    "- Avoid prolonged screen time.\n",
    "- Remember to have fun :)\n"
   ]
  }
 ],
 "metadata": {
  "language_info": {
   "name": "python"
  },
  "orig_nbformat": 4
 },
 "nbformat": 4,
 "nbformat_minor": 2
}
