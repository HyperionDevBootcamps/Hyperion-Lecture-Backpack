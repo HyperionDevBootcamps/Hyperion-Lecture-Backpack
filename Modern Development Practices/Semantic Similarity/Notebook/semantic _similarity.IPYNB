{
 "cells": [
  {
   "cell_type": "markdown",
   "metadata": {},
   "source": [
    "## Lecture Housekeeping:\n",
    "\n",
    "- The use of disrespectful language is prohibited in the questions, this is a supportive, learning environment for all - please engage accordingly.\n",
    "    - Please review Code of Conduct (in Student Undertaking Agreement) if unsure\n",
    "- No question is daft or silly - ask them!\n",
    "- There are Q&A sessions midway and at the end of the session, should you wish to ask any follow-up questions.\n",
    "- Should you have any questions after the lecture, please schedule a mentor session.\n",
    "- For all non-academic questions, please submit a query: [www.hyperiondev.com/support](www.hyperiondev.com/support)\n"
   ]
  },
  {
   "cell_type": "markdown",
   "metadata": {},
   "source": [
    "#### Learning objectives\n",
    "\n",
    "- Define Semantic Similarity\n",
    "- Use spacy to perform semantic similarity on text\n"
   ]
  },
  {
   "cell_type": "markdown",
   "metadata": {},
   "source": [
    "##### Semantic Similarity\n",
    "\n",
    "- How do we tell if two things are similar?\n",
    "- To extend this, how do we tell if two things are related in some way?\n",
    "- For example: Cat, Monkey and Banana\n",
    "    - Cat is similar to Monkey, as both are animals and mammals.\n",
    "    - Monkey is related to Banana, because Monkey like Banana.\n",
    "    - Cat is not strongly related to Banana, however.\n"
   ]
  },
  {
   "cell_type": "code",
   "execution_count": 1,
   "metadata": {},
   "outputs": [
    {
     "name": "stdout",
     "output_type": "stream",
     "text": [
      "0.5929929675536907\n",
      "0.4041501317354622\n",
      "0.22358825939615987\n"
     ]
    }
   ],
   "source": [
    "import spacy\n",
    "\n",
    "nlp = spacy.load('en_core_web_lg')\n",
    "\n",
    "word1 = nlp(\"cat\")\n",
    "word2 = nlp(\"monkey\")\n",
    "word3 = nlp(\"banana\")\n",
    "\n",
    "print(word1.similarity(word2))\n",
    "print(word3.similarity(word2))\n",
    "print(word3.similarity(word1))"
   ]
  },
  {
   "cell_type": "code",
   "execution_count": 2,
   "metadata": {},
   "outputs": [
    {
     "name": "stdout",
     "output_type": "stream",
     "text": [
      "0.9447969760939362\n"
     ]
    }
   ],
   "source": [
    "paragraph1 = nlp(\"Dogs, often called man's best friend, are beloved companions cherished for their loyalty, affection, and diverse breeds. From energetic border collies to gentle golden retrievers, these remarkable animals offer unwavering friendship and bring joy to our lives. Their wagging tails and expressive eyes make them a source of endless happiness and connection.\")\n",
    "paragraph2 = nlp(\"Dogs, renowned as humans' closest confidants, embody unwavering devotion and a captivating variety of breeds. Whether it's the exuberant spirit of a border collie or the gentle nature of a golden retriever, these remarkable creatures bestow steadfast companionship and boundless delight. Their expressive eyes and joyous tail-wagging are enduring sources of happiness, forging deep connections with us.\")\n",
    "\n",
    "print(paragraph1.similarity(paragraph2))\n"
   ]
  },
  {
   "cell_type": "markdown",
   "metadata": {},
   "source": [
    "# Questions and Answers\n",
    "Questions around Semantic Similarity"
   ]
  },
  {
   "cell_type": "markdown",
   "metadata": {},
   "source": [
    "# Thank you for joining!\n",
    "\n",
    "## Please remember to:\n",
    "- Take regular breaks.\n",
    "- Stay hydrated.\n",
    "- Avoid prolonged screen time.\n",
    "- Don't slouch!\n",
    "- Remember to have fun :)\n"
   ]
  }
 ],
 "metadata": {
  "kernelspec": {
   "display_name": "venv",
   "language": "python",
   "name": "python3"
  },
  "language_info": {
   "codemirror_mode": {
    "name": "ipython",
    "version": 3
   },
   "file_extension": ".py",
   "mimetype": "text/x-python",
   "name": "python",
   "nbconvert_exporter": "python",
   "pygments_lexer": "ipython3",
   "version": "3.11.4"
  },
  "orig_nbformat": 4
 },
 "nbformat": 4,
 "nbformat_minor": 2
}
