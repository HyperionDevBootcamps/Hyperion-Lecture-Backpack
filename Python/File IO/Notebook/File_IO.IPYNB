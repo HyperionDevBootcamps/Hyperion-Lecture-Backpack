{
 "cells": [
  {
   "cell_type": "markdown",
   "metadata": {},
   "source": [
    "## Lecture Housekeeping:\n",
    "\n",
    "- The use of disrespectful language is prohibited in the questions, this is a supportive, learning environment for all - please engage accordingly.\n",
    "    - Please review Code of Conduct (in Student Undertaking Agreement) if unsure\n",
    "- No question is daft or silly - ask them!\n",
    "- There are Q&A sessions midway and at the end of the session, should you wish to ask any follow-up questions.\n",
    "- Should you have any questions after the lecture, please schedule a mentor session.\n",
    "- For all non-academic questions, please submit a query: [www.hyperiondev.com/support](www.hyperiondev.com/support)\n"
   ]
  },
  {
   "cell_type": "markdown",
   "metadata": {},
   "source": [
    "## File I/O\n",
    "\n",
    "#### Learning objectives\n",
    "\n",
    "- File I/O\n",
    "    - Explain text files and why we would use them within our programs\n",
    "    - Demonstrate how to retrieve data from a text file.\n",
    "    - Use python code to manipulate data from a text file and store data inside a text file\n",
    "\n"
   ]
  },
  {
   "cell_type": "markdown",
   "metadata": {},
   "source": [
    "##### Text Files\n",
    "\n",
    "- Stores text data\n",
    "- We can use them to store and retrieve data in our programs\n",
    "- Works well for data storing and processing\n",
    "- Text files use a certain encoding most commonly used \"utf-8\"\n",
    "- Encoding is the process of serialising a string into a sequences of bytes\n",
    "- Decoding is when we recreate a string from a sequence of bytes\n"
   ]
  },
  {
   "cell_type": "markdown",
   "metadata": {},
   "source": [
    "##### Opening a File\n",
    "\n",
    "- Create a variable to store the name of the text file.\n",
    "- Create a variable to store the file object created by the open() function.\n",
    "- Specify the access mode eg. ‘r’ to allow user to read the data in the file object.\n"
   ]
  },
  {
   "cell_type": "code",
   "execution_count": null,
   "metadata": {},
   "outputs": [],
   "source": [
    "file_name = 'input.txt'\n",
    "file = open(file_name, 'r')\n",
    "\n",
    "print(file)"
   ]
  },
  {
   "cell_type": "markdown",
   "metadata": {},
   "source": [
    "##### Alternative Open"
   ]
  },
  {
   "cell_type": "code",
   "execution_count": null,
   "metadata": {},
   "outputs": [],
   "source": [
    "with open('input.txt', 'r') as file:\n",
    "    print(file)"
   ]
  },
  {
   "cell_type": "markdown",
   "metadata": {},
   "source": [
    "##### Reading Files\n",
    "\n",
    "- To properly read the **file object**, we will need to use one of the read methods:  **.read()** , **.readline()**, **.readlines()**"
   ]
  },
  {
   "cell_type": "code",
   "execution_count": null,
   "metadata": {},
   "outputs": [],
   "source": [
    "text = file.read()\n",
    "print(text)\n",
    "\n",
    "line = file.readline()\n",
    "print(line)\n",
    "\n",
    "lines = file.readlines()\n",
    "print(lines)"
   ]
  },
  {
   "cell_type": "markdown",
   "metadata": {},
   "source": [
    "After you are done using your file you should close your file to save the changes."
   ]
  },
  {
   "cell_type": "code",
   "execution_count": null,
   "metadata": {},
   "outputs": [],
   "source": [
    "file.close()"
   ]
  },
  {
   "cell_type": "markdown",
   "metadata": {},
   "source": [
    "##### Writing to Files\n",
    "\n",
    "- Create a file object like before or use a with/as block\n",
    "- Set the access mode to ‘w’.\n",
    "- If the file does not exist, it will be created.\n",
    "- Use the **.write()** method to write contents to a file."
   ]
  },
  {
   "cell_type": "code",
   "execution_count": null,
   "metadata": {},
   "outputs": [],
   "source": [
    "file_name = 'output.txt'\n",
    "file = open('output.txt', 'w', encoding='utf-8')\n",
    "\n",
    "file.write(\"This will be written to my text file.\\n\")\n",
    "file.write(\"This is aother entry in my text file.\")\n",
    "file.write(\"This is the last entry in my text file.\")"
   ]
  },
  {
   "cell_type": "markdown",
   "metadata": {},
   "source": [
    "##### Things to note\n",
    "\n",
    "- Remember that when the file is reopened and new data is written to the file, the previous data is then overwritten.\n",
    "- You can preserve the previous data by using the append ( a ) access mode. This will simply append the new data to the end of the file, instead of overwriting.\n"
   ]
  },
  {
   "cell_type": "code",
   "execution_count": null,
   "metadata": {},
   "outputs": [],
   "source": [
    "with open('output.txt', 'a') as file:\n",
    "    file.write(\"This will be appended to my output file.\")"
   ]
  },
  {
   "cell_type": "markdown",
   "metadata": {},
   "source": [
    "##### Reading and Writing\n",
    "\n",
    "- There are ways to write/append contents to a file and read it without reopening the file.\n",
    "\n",
    "- You would need to use different access modes depending on the purpose:\n",
    "    - ‘w+’ : To write and then read.\n",
    "\n",
    "    - ‘r+’ : To read and then write.\n",
    "\n",
    "    - ‘a+’: To append and then read.\n"
   ]
  },
  {
   "cell_type": "code",
   "execution_count": null,
   "metadata": {},
   "outputs": [],
   "source": [
    "with open('output.txt', 'w+') as file:\n",
    "\n",
    "    file.write(\"This will be written to my text file.\\n\")\n",
    "    file.write(\"This is aother entry in my text file.\\n\")\n",
    "    file.write(\"This is the last entry in my text file.\")\n",
    "\n",
    "    file.seek(0)\n",
    "\n",
    "    text = file.read()\n",
    "    print(text)"
   ]
  },
  {
   "cell_type": "markdown",
   "metadata": {},
   "source": [
    "# Thank you for joining!\n",
    "\n",
    "## Please remember to:\n",
    "- Take regular breaks.\n",
    "- Stay hydrated.\n",
    "- Avoid prolonged screen time.\n",
    "- Remember to have fun :)\n"
   ]
  }
 ],
 "metadata": {
  "kernelspec": {
   "display_name": "Python 3",
   "language": "python",
   "name": "python3"
  },
  "language_info": {
   "codemirror_mode": {
    "name": "ipython",
    "version": 3
   },
   "file_extension": ".py",
   "mimetype": "text/x-python",
   "name": "python",
   "nbconvert_exporter": "python",
   "pygments_lexer": "ipython3",
   "version": "3.11.4"
  },
  "orig_nbformat": 4
 },
 "nbformat": 4,
 "nbformat_minor": 2
}
