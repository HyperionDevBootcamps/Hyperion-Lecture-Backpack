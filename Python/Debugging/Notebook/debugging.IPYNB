{
 "cells": [
  {
   "cell_type": "markdown",
   "metadata": {},
   "source": [
    "## Lecture Housekeeping:\n",
    "\n",
    "- The use of disrespectful language is prohibited in the questions, this is a supportive, learning environment for all - please engage accordingly.\n",
    "    - Please review Code of Conduct (in Student Undertaking Agreement) if unsure\n",
    "- No question is daft or silly - ask them!\n",
    "- There are Q&A sessions midway and at the end of the session, should you wish to ask any follow-up questions.\n",
    "- Should you have any questions after the lecture, please schedule a mentor session.\n",
    "- For all non-academic questions, please submit a query: [www.hyperiondev.com/support](www.hyperiondev.com/support)\n"
   ]
  },
  {
   "cell_type": "markdown",
   "metadata": {},
   "source": [
    "## Debugging\n",
    "\n",
    "#### Learning objectives\n",
    "\n",
    "- Debugging\n",
    "    - Define Hypothesis-Driven Debugging.\n",
    "    - Use Hypothesis-Driven Debugging to locate and resolve bugs within your code.\n",
    "\n",
    "\n",
    "\n"
   ]
  },
  {
   "cell_type": "markdown",
   "metadata": {},
   "source": [
    "### Hypothesis-Driven Debugging\n",
    "\n",
    "The key steps involved in this appraoch:\n",
    "1. Identify the problem or failure.\n",
    "2. Formulate a hypothesis about the cause.\n",
    "3. Design and conduct experiments to test the hypothesis.\n",
    "4. Analyze the results and refine the hypothesis if necessary.\n",
    "5. Repeat the process untill the bug is resolved."
   ]
  },
  {
   "cell_type": "markdown",
   "metadata": {},
   "source": [
    "The advantages of using this approach for debugging:\n",
    "- Provies a structered and systematic approach to problem-solving.\n",
    "- Helps in narrowing down the potential causes of the issue.\n",
    "- Saves time and effort by focusing on relevant experiments.\n",
    "- Facilitates learning from debugging experiences and improving future debugging skills."
   ]
  },
  {
   "cell_type": "markdown",
   "metadata": {},
   "source": [
    "# Thank you for joining!\n",
    "\n",
    "## Please remember to:\n",
    "- Take regular breaks.\n",
    "- Stay hydrated.\n",
    "- Avoid prolonged screen time.\n",
    "- Remember to have fun :)\n"
   ]
  }
 ],
 "metadata": {
  "kernelspec": {
   "display_name": "Python 3",
   "language": "python",
   "name": "python3"
  },
  "language_info": {
   "codemirror_mode": {
    "name": "ipython",
    "version": 3
   },
   "file_extension": ".py",
   "mimetype": "text/x-python",
   "name": "python",
   "nbconvert_exporter": "python",
   "pygments_lexer": "ipython3",
   "version": "3.11.4"
  },
  "orig_nbformat": 4
 },
 "nbformat": 4,
 "nbformat_minor": 2
}
