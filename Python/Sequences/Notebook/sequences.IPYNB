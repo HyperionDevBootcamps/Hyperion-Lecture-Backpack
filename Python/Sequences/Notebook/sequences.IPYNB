{
 "cells": [
  {
   "cell_type": "markdown",
   "metadata": {},
   "source": [
    "## Lecture Housekeeping:\n",
    "\n",
    "- The use of disrespectful language is prohibited in the questions, this is a supportive, learning environment for all - please engage accordingly.\n",
    "    - Please review Code of Conduct (in Student Undertaking Agreement) if unsure\n",
    "- No question is daft or silly - ask them!\n",
    "- There are Q&A sessions midway and at the end of the session, should you wish to ask any follow-up questions.\n",
    "- Should you have any questions after the lecture, please schedule a mentor session.\n",
    "- For all non-academic questions, please submit a query: [www.hyperiondev.com/support](www.hyperiondev.com/support)\n"
   ]
  },
  {
   "attachments": {},
   "cell_type": "markdown",
   "metadata": {},
   "source": [
    "### Sequences\n",
    "\n",
    "#### Learning Objects\n",
    "\n",
    "- Descibe sequences such as string, lists and dictionaries.\n",
    "- Implement sequence types winthin your own python projects.\n",
    "- Use string, list and dictionary methods to manipulate and perform operations on data."
   ]
  },
  {
   "attachments": {},
   "cell_type": "markdown",
   "metadata": {},
   "source": [
    "#### Strings\n",
    "\n",
    "- Python strings are sequences of characters, such as letters, numbers, and symbols.\n",
    "- Enclosed in single (' '), double (\" \"), or triple (''' ''' or \"\"\" \"\"\") quotes.\n",
    "- Used to represent text data and can be manipulated in various ways.\n",
    "\n",
    "##### String characteristics\n",
    "\n",
    "- **Immutable:** \n",
    "    - Strings cannot be modified once created. \n",
    "    - Operations that seem to modify a string actually create a new string with the desired changes.\n",
    "\n",
    "- **Indexing:** \n",
    "    - You can access individual characters in a string using square brackets and indexing.\n",
    "\n",
    "- **Slicing:** \n",
    "    - You can extract a portion of a string (substring) by specifying a range of indices. \n",
    "    - Slicing returns a new string containing the selected characters.\n",
    "\n",
    "- **Concatenation:** \n",
    "    - You can combine (concatenate) strings using the + operator.\n",
    "\n",
    "- **Length:** \n",
    "    - The len() function can be used to determine the number of characters in a string.\n",
    "\n",
    "- **String Methods:** \n",
    "    - Python provides many built-in string methods for tasks like searching, replacing, converting cases, and more.\n",
    "\n",
    "- **Escape Sequences:** \n",
    "    - Special characters in strings can be represented using escape sequences, like '\\n' for a newline or \\\" to include a double quote within a double-quoted string."
   ]
  },
  {
   "attachments": {},
   "cell_type": "markdown",
   "metadata": {},
   "source": [
    "#### Lists\n",
    "\n",
    "- Python lists are ordered collections of items.\n",
    "- They are defined using square brackets '[]'. \n",
    "- Can contain elements like numbers, strings, or even other lists.\n",
    "\n",
    "##### List characteristics\n",
    "\n",
    "- **Ordered:** \n",
    "    - Lists maintain the order of elements, meaning items are stored in a specific sequence, and you can access them by their position (index).\n",
    "\n",
    "- **Mutable:** \n",
    "    - Lists are mutable, which means you can modify, add, or remove elements after creating a list.\n",
    "\n",
    "- **Heterogeneous:** \n",
    "    - Lists can contain elements of different data types, making them versatile for storing a variety of data.\n",
    "\n",
    "- **Indexing:** \n",
    "    - You can access individual elements in a list using square brackets and indexing.\n",
    "\n",
    "- **Slicing:** \n",
    "    - You can extract sublists (slices) of a list by specifying a range of indices. \n",
    "    - Slicing returns a new list containing the selected elements.\n",
    "\n",
    "- **Length:** \n",
    "    - The len() function can be used to determine the number of elements in a list.\n",
    "\n",
    "- **Common Operations:** \n",
    "    - Lists support operations like appending, extending, inserting, and removing elements, as well as sorting and reversing.\n"
   ]
  },
  {
   "attachments": {},
   "cell_type": "markdown",
   "metadata": {},
   "source": [
    "#### Dictionaries\n",
    "\n",
    "- Python dictionaries are unordered collections of key-value pairs.\n",
    "- They are defined using curly braces '{}'.\n",
    "- Consist of keys and their corresponding values, separated by colons.\n",
    "\n",
    "##### Dictionary characteristics\n",
    "\n",
    "- **Key-Value Mapping:** \n",
    "    - Dictionaries allow you to map keys to values, making it easy to associate data in a structured way.\n",
    "\n",
    "- **Unordered:** \n",
    "    - Dictionaries are unordered, which means the order of key-value pairs is not guaranteed. \n",
    "    - Starting from Python 3.7, dictionaries maintain insertion order, making them appear ordered.\n",
    "\n",
    "- **Mutable:** \n",
    "    - Dictionaries are mutable, so you can add, modify, or remove key-value pairs after creation.\n",
    "\n",
    "- **Unique Keys:** \n",
    "    - Keys in a dictionary must be unique, and they are used to access their associated values.\n",
    "\n",
    "- **Heterogeneous Values:** \n",
    "    - Values in a dictionary can be of different data types, including numbers, strings, lists, or even other dictionaries.\n",
    "\n",
    "- **Access by Key:** \n",
    "    - You retrieve values from a dictionary by specifying the associated key in square brackets."
   ]
  },
  {
   "cell_type": "markdown",
   "metadata": {},
   "source": [
    "# Questions and Answers\n",
    "Questions around Sequences"
   ]
  },
  {
   "cell_type": "markdown",
   "metadata": {},
   "source": [
    "# Thank you for joining!\n",
    "\n",
    "## Please remember to:\n",
    "- Take regular breaks.\n",
    "- Stay hydrated.\n",
    "- Avoid prolonged screen time.\n",
    "- Don't slouch!\n",
    "- Remember to have fun :)\n"
   ]
  }
 ],
 "metadata": {
  "kernelspec": {
   "display_name": "venv",
   "language": "python",
   "name": "python3"
  },
  "language_info": {
   "name": "python",
   "version": "3.11.4 (tags/v3.11.4:d2340ef, Jun  7 2023, 05:45:37) [MSC v.1934 64 bit (AMD64)]"
  },
  "orig_nbformat": 4,
  "vscode": {
   "interpreter": {
    "hash": "f908fcf300f433f614492582f71784769abd868c615a716f318da13ac47f8de9"
   }
  }
 },
 "nbformat": 4,
 "nbformat_minor": 2
}
