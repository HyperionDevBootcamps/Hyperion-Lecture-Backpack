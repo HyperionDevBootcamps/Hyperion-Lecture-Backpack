{
 "cells": [
  {
   "cell_type": "markdown",
   "metadata": {},
   "source": [
    "## Lecture Housekeeping:\n",
    "\n",
    "- The use of disrespectful language is prohibited in the questions, this is a supportive, learning environment for all - please engage accordingly.\n",
    "    - Please review Code of Conduct (in Student Undertaking Agreement) if unsure\n",
    "- No question is daft or silly - ask them!\n",
    "- There are Q&A sessions midway and at the end of the session, should you wish to ask any follow-up questions.\n",
    "- Should you have any questions after the lecture, please schedule a mentor session.\n",
    "- For all non-academic questions, please submit a query: [www.hyperiondev.com/support](www.hyperiondev.com/support)\n"
   ]
  },
  {
   "cell_type": "markdown",
   "metadata": {},
   "source": [
    "## Objects\n",
    "\n",
    "#### Learning objectives\n",
    "\n",
    "- Objects\n",
    "    - Explain the difference between a class and a class instance\n",
    "    - Define inheritance\n",
    "    - Demonstrate how to create a class with attributes\n",
    "    - Use your created class to create a class instance\n",
    "    - Implement inheritance on a class to extend the functionality of an existing class\n",
    "\n",
    "\n"
   ]
  },
  {
   "cell_type": "markdown",
   "metadata": {},
   "source": [
    "**What is an Object?**\n",
    "- An object in Python is a self-contained unit that bundles both data and the functions (or methods) that operate on that data. \n",
    "- The objects we create are instances of classes, and they are used to model and manipulate real-world entities and their behaviors in a program."
   ]
  },
  {
   "cell_type": "markdown",
   "metadata": {},
   "source": [
    "**Objects Are Everywhere:**\n",
    "- In Python, everything is an object, including numbers, strings, lists, dictionaries, functions, classes, and even the modules and packages that make up the Python standard library. \n",
    "- This means you can treat all these entities in a consistent way, as they all follow the same underlying object-oriented model."
   ]
  },
  {
   "cell_type": "markdown",
   "metadata": {},
   "source": [
    "**Attributes and Methods:**\n",
    "An object consists of two main components:\n",
    "\n",
    "- **Attributes:** \n",
    "    - These are the data or variables associated with the object. \n",
    "    - For instance, a **Person** object might have attributes like **name**, **age**, and **address**.\n",
    "- **Methods:** \n",
    "    - These are functions associated with the object that allow you to perform actions or operations on the object's data. \n",
    "    - For our **Person** object, methods could include **get_age()**, **change_address()**, or **greet()**, for instance"
   ]
  },
  {
   "cell_type": "markdown",
   "metadata": {},
   "source": [
    "**Classes:**\n",
    "- Objects are created from class blueprints. \n",
    "- A class defines the structure (attributes) and behavior (methods) that its objects will have. \n",
    "- To create an object, you instantiate a class, which means you create a new instance of that class with its own unique data and state."
   ]
  },
  {
   "cell_type": "markdown",
   "metadata": {},
   "source": [
    "Here's a simple example of a Python class and object:"
   ]
  },
  {
   "cell_type": "code",
   "execution_count": null,
   "metadata": {},
   "outputs": [],
   "source": [
    "class Person:\n",
    "    def __init__(self, name, age):\n",
    "        self.name = name\n",
    "        self.age = age\n",
    "\n",
    "    def greet(self):\n",
    "        return f\"Hello, my name is {self.name} and I'm {self.age} years old.\"\n",
    "\n",
    "# Creating an object (instance) of the Person class\n",
    "person1 = Person(\"Sandra\", 22)\n",
    "\n",
    "# Accessing attributes and calling methods\n",
    "print(person1.name)  \n",
    "print(person1.greet())  \n"
   ]
  },
  {
   "cell_type": "markdown",
   "metadata": {},
   "source": [
    "**Identity and References:**\n",
    "- Each object has a unique identity, which you can think of as its address in memory. \n",
    "- When you assign an object to a variable, you're actually creating a reference to that object. \n",
    "- Multiple variables can reference the same object."
   ]
  },
  {
   "cell_type": "markdown",
   "metadata": {},
   "source": [
    "**Garbage Collection:**\n",
    "- Python has a built-in garbage collector that automatically reclaims memory occupied by objects that are no longer referenced by any variables. \n",
    "- This makes memory management easier and more efficient."
   ]
  },
  {
   "cell_type": "markdown",
   "metadata": {},
   "source": [
    "#### **Inheritance**\n",
    "\n",
    "- Inheritance is a fundamental concept in object-oriented programming.\n",
    "- It allows you to create new classes based on existing ones.\n",
    "- A new class can inherit attributes and behaviors from an existing class\n",
    "\n",
    "**Base Class (Superclass):** \n",
    "- Existing class from which you want to inherit attributes and behaviors. \n",
    "- Has a common set of attributes and methods that can be reused in multiple subclasses.\n",
    "\n",
    "**Derived Class (Subclass):**\n",
    "- The derived class is the new class that inherits from the base class. \n",
    "- It adds or customizes attributes and methods, extending or modifying the behavior of the base class.\n",
    "\n",
    "**Inheriting Attributes and Methods:** \n",
    "- In Python, a subclass can inherit all the attributes and methods of its superclass. \n",
    "- This allows you to reuse code and build on top of existing functionality without starting from scratch.\n",
    "\n",
    "**Method Overriding:** \n",
    "- A subclass can also override (redefine) methods from the superclass. \n",
    "- When a method is called on an object of the subclass, the overridden method in the subclass is executed instead of the one in the superclass.\n",
    "\n",
    "**super() Function:** \n",
    "- To call a method from the superclass in the subclass, you can use the super() function. \n",
    "- It's particularly useful when you override a method in the subclass and want to invoke the superclass's method from within the overridden method."
   ]
  },
  {
   "cell_type": "code",
   "execution_count": null,
   "metadata": {},
   "outputs": [],
   "source": [
    "class Animal:\n",
    "    def __init__(self, name):\n",
    "        self.name = name\n",
    "\n",
    "    def speak(self):\n",
    "        print(\"**Animal Noise**\")\n",
    "        pass\n",
    "\n",
    "class Dog(Animal):\n",
    "\n",
    "    def __init__(self, name):\n",
    "        super().__init__(name)\n",
    "\n",
    "    def speak(self):\n",
    "        super().speak()\n",
    "        return f\"{self.name} says Woof!\"\n",
    "\n",
    "class Cat(Animal):\n",
    "     \n",
    "    def __init__(self, name):\n",
    "        super().__init__(name)\n",
    "\n",
    "    def speak(self):\n",
    "        return f\"{self.name} says Meow!\"\n",
    "\n",
    "# Create instances of the derived classes\n",
    "dog = Dog(\"Buddy\")\n",
    "cat = Cat(\"Whiskers\")\n",
    "\n",
    "# Call the overridden methods\n",
    "print(dog.speak())\n",
    "print(cat.speak()) "
   ]
  },
  {
   "cell_type": "markdown",
   "metadata": {},
   "source": [
    "##### Special/Magic methods\n",
    "\n",
    "- Special methods, also known as \"magic methods\" or \"dunder methods\" (short for \"double underscore\" methods)\n",
    "- Set of predefined methods with double underscores at the beginning and end of their names.\n",
    "- Allow you to customize the behavior of your classes in response to standard Python operations.\n",
    "\n",
    "- `__init__`\n",
    "    - Constructor method, used to initialize object attributes when a new instance of the class is created.\n",
    "- `__str__`\n",
    "    - Returns a human-readable string representation of the object. \n",
    "    - It's often used for the **str()** function and string formatting.\n",
    "- `__len__`\n",
    "    - Defines the behavior of the len() function when called on an object of the class.\n",
    "    - Should return the length of the object.\n",
    "- `__iter__`\n",
    "    - Enables iteration over an object by defining an iterator.\n",
    "    - Returns the iterator object.\n",
    "- `__add__`, `__sub__`, `__mul__`\n",
    "    - You can define custom behavior for arithmetic operations (+, -, *, etc.) with these special methods.\n"
   ]
  },
  {
   "cell_type": "code",
   "execution_count": null,
   "metadata": {},
   "outputs": [],
   "source": [
    "class MyInt():\n",
    "\n",
    "    def __init__(self, value):\n",
    "        self.value = value\n",
    "\n",
    "    def __add__(self, other_int):\n",
    "        return MyInt((self.value*2)+(other_int.value*2))\n",
    "    \n",
    "    def __iter__(self):\n",
    "        return (i for i in range(1, self.value+1))\n",
    "    \n",
    "    def __str__(self):\n",
    "        return str(self.value)\n",
    "    \n",
    "int1 = MyInt(5)\n",
    "int2 = MyInt(6)\n",
    "\n",
    "print(int1 + int2)\n",
    "\n",
    "for i in int1:\n",
    "    print(i)\n"
   ]
  },
  {
   "cell_type": "markdown",
   "metadata": {},
   "source": [
    "# Thank you for joining!\n",
    "\n",
    "## Please remember to:\n",
    "- Take regular breaks.\n",
    "- Stay hydrated.\n",
    "- Avoid prolonged screen time.\n",
    "- Don't slouch\n",
    "- Remember to have fun :)\n"
   ]
  }
 ],
 "metadata": {
  "kernelspec": {
   "display_name": "Python 3",
   "language": "python",
   "name": "python3"
  },
  "language_info": {
   "codemirror_mode": {
    "name": "ipython",
    "version": 3
   },
   "file_extension": ".py",
   "mimetype": "text/x-python",
   "name": "python",
   "nbconvert_exporter": "python",
   "pygments_lexer": "ipython3",
   "version": "3.11.4"
  },
  "orig_nbformat": 4
 },
 "nbformat": 4,
 "nbformat_minor": 2
}
