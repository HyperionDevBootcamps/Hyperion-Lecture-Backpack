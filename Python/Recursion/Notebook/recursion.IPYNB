{
 "cells": [
  {
   "cell_type": "markdown",
   "metadata": {},
   "source": [
    "## Lecture Housekeeping:\n",
    "\n",
    "- The use of disrespectful language is prohibited in the questions, this is a supportive, learning environment for all - please engage accordingly.\n",
    "    - Please review Code of Conduct (in Student Undertaking Agreement) if unsure\n",
    "- No question is daft or silly - ask them!\n",
    "- There are Q&A sessions midway and at the end of the session, should you wish to ask any follow-up questions.\n",
    "- Should you have any questions after the lecture, please schedule a mentor session.\n",
    "- For all non-academic questions, please submit a query: [www.hyperiondev.com/support](www.hyperiondev.com/support)\n"
   ]
  },
  {
   "cell_type": "markdown",
   "metadata": {},
   "source": [
    "### Recursion\n",
    "\n",
    "#### Learning Objects\n",
    "\n",
    "- Define recursion\n",
    "- Identify a recursive functions.\n",
    "- Implement recursion within your own functions."
   ]
  },
  {
   "cell_type": "markdown",
   "metadata": {},
   "source": [
    "#### What is Recursion?\n",
    "\n",
    "Recursion is defined as a problem that is defined in terms of **itself**.\n",
    "\n",
    "We face **complex problems** using recursion to **break** the problem **down** into **simpler ones**.\n",
    "\n",
    "In simple terms, recursion is when a function calls **itself**.\n"
   ]
  },
  {
   "cell_type": "markdown",
   "metadata": {},
   "source": [
    "#### Recursive Function\n",
    "\n",
    "Normally a recursive function uses **conditional** statements to determine whether or not to call the function recursively. The main benefits of using recursion are **compactness of code**, **understandability of code**, and **having fewer variables**. \n",
    "\n",
    "Recursion and iteration (loops) can be used to achieve the same results. However, unlike loops, which work by **explicitly specifying a repetition structure**, recursion uses **continuous** function calls to achieve **repetition**."
   ]
  },
  {
   "cell_type": "markdown",
   "metadata": {},
   "source": [
    "Recursion is a somewhat **advanced** topic and problems that can be solved with recursion can also most likely be solved by using simpler **looping structures**. However, recursion is a useful programming technique that, in **some cases**, can enable you to develop natural, straightforward, simple solutions to otherwise difficult problems.\n",
    "  \n",
    "  \n",
    "The following guidelines will help you to decide which method to use depending on a given situation:\n",
    "- When to use **recursion**?\n",
    "    - When compact, understandable, and intuitive code is required.\n",
    "- When to use **iteration**? \n",
    "    - When there is limited memory and faster processing is required.\n"
   ]
  },
  {
   "cell_type": "markdown",
   "metadata": {},
   "source": [
    "There are two main requirements for a recursive function:\n",
    "\n",
    "- **Base case**:\n",
    "    - The function returns a value when a **certain condition** is satisfied, **without** any other recursive calls.\n",
    "- **Recursive call**: \n",
    "    - The function calls *itself* with an input that is a step closer to the base case.\n",
    "\n",
    "Without these two main requirements we run the risk of creating an **infinite** recursive function, which will lead to a Stack Overflow."
   ]
  },
  {
   "cell_type": "markdown",
   "metadata": {},
   "source": [
    "##### Computing Factorials Using Recursion\n",
    "\n",
    "As mentioned previously, a recursive function is a function that calls **itself**.\n",
    "\n",
    "Many mathematical functions can be defined using recursion. A simple example is a **factorial** function. The factorial function, **n!** describes the operation of multiplying a number by all positive integers less than or equal to itself (excluding zero). \n",
    "\n",
    "For example: 4! = 4 x 3 x 2 x 1 = 24\n",
    "\n",
    "<img src='factorial graphic.png' height=350 width=350>"
   ]
  },
  {
   "cell_type": "code",
   "execution_count": 1,
   "metadata": {},
   "outputs": [
    {
     "name": "stdout",
     "output_type": "stream",
     "text": [
      "24\n"
     ]
    }
   ],
   "source": [
    "def factorial(num):\n",
    "    if num <= 1:\n",
    "        return 1\n",
    "    else:\n",
    "        return num * factorial(num-1)\n",
    "            #   4  * factorial(3) \n",
    "            #             3      *    factorial(2) \n",
    "            #                              2        *    factorial(1)\n",
    "            #                                                 1\n",
    "    \n",
    "print(factorial(4))\n"
   ]
  },
  {
   "cell_type": "markdown",
   "metadata": {},
   "source": [
    "# Questions and Answers\n",
    "Questions around Recursion"
   ]
  },
  {
   "cell_type": "markdown",
   "metadata": {},
   "source": [
    "# Thank you for joining!\n",
    "\n",
    "## Please remember to:\n",
    "- Take regular breaks.\n",
    "- Stay hydrated.\n",
    "- Avoid prolonged screen time.\n",
    "- Don't slouch!\n",
    "- Remember to have fun :)\n"
   ]
  }
 ],
 "metadata": {
  "kernelspec": {
   "display_name": "Python 3",
   "language": "python",
   "name": "python3"
  },
  "language_info": {
   "codemirror_mode": {
    "name": "ipython",
    "version": 3
   },
   "file_extension": ".py",
   "mimetype": "text/x-python",
   "name": "python",
   "nbconvert_exporter": "python",
   "pygments_lexer": "ipython3",
   "version": "3.11.4"
  },
  "orig_nbformat": 4
 },
 "nbformat": 4,
 "nbformat_minor": 2
}
