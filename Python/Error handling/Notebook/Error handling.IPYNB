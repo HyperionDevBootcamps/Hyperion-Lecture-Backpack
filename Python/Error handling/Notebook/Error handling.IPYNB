{
 "cells": [
  {
   "cell_type": "markdown",
   "metadata": {},
   "source": [
    "## Lecture Housekeeping:\n",
    "\n",
    "- The use of disrespectful language is prohibited in the questions, this is a supportive, learning environment for all - please engage accordingly.\n",
    "    - Please review Code of Conduct (in Student Undertaking Agreement) if unsure\n",
    "- No question is daft or silly - ask them!\n",
    "- There are Q&A sessions midway and at the end of the session, should you wish to ask any follow-up questions.\n",
    "- Should you have any questions after the lecture, please schedule a mentor session.\n",
    "- For all non-academic questions, please submit a query: [www.hyperiondev.com/support](www.hyperiondev.com/support)\n"
   ]
  },
  {
   "cell_type": "markdown",
   "metadata": {},
   "source": [
    "## Defensive programming\n",
    "\n",
    "#### Learning objectives\n",
    "\n",
    "- Debugging\n",
    "    - Classify different types of errors.\n",
    "    - Use defensive programing to remove errors.\n",
    "    - Construct robust and error free applications.\n"
   ]
  },
  {
   "cell_type": "markdown",
   "metadata": {},
   "source": [
    "##### Defensive programming\n",
    "\n",
    "- We can’t expect users to restart a program every time something goes wrong.\n",
    "- It is important to remember that you cannot trust the input from a user.\n",
    "- Users can make all sorts of mistakes during input which can cause a ton of headaches for your programmes.\n",
    "- Just like the mistakes our users make, we can also make mistakes and use incorrect data in our programs.\n",
    "\n",
    "- A lot of people depend on the programmes we write so we can't have it fail or have errors. Especially when there are lives at stake.\n",
    "- With defensive programming we try to anticipate mistakes that might occur during the programs runtime.\n",
    "- We then try to refactor the code to handle the errors and prevent the program from crashing.\n",
    "- We can highlight some errors by using manual and automated testing.\n"
   ]
  },
  {
   "cell_type": "markdown",
   "metadata": {},
   "source": [
    "##### Types of errors\n",
    "\n",
    "Syntax Errors"
   ]
  },
  {
   "cell_type": "code",
   "execution_count": null,
   "metadata": {},
   "outputs": [],
   "source": [
    "print 'Hello'\n",
    " \n",
    "  \n",
    "num = 5    \n",
    "  if num > 3:\n",
    "      num -= 3\n",
    "      print(num)\n",
    "     \n",
    "num =3\n",
    "if num == 5:\n",
    "else:\n",
    "    print(\"Error\")\n",
    "\n",
    "\n",
    "print('This print isn't working')"
   ]
  },
  {
   "cell_type": "markdown",
   "metadata": {},
   "source": [
    "Runtime Errors"
   ]
  },
  {
   "cell_type": "code",
   "execution_count": 10,
   "metadata": {},
   "outputs": [
    {
     "name": "stdout",
     "output_type": "stream",
     "text": [
      "Runtime proof\n",
      "armand\n"
     ]
    }
   ],
   "source": [
    "print(\"Runtime proof\")\n",
    "\n",
    "# num1 = 5\n",
    "# num2 = \"10\"\n",
    "# print(num1 + num2)\n",
    "\n",
    "# my_num = 4\n",
    "# for i in range(my_num):\n",
    "#     print(my_num/i)\n",
    "\n",
    "# lst = [1,2,3,4,5] \n",
    "# print(\"\".join(lst))\n",
    "\n",
    "# new_list = [1]\n",
    "# print(new_list[1])\n",
    "\n",
    "# new_dict = {}\n",
    "# print(new_dict[\"name\"])"
   ]
  },
  {
   "cell_type": "markdown",
   "metadata": {},
   "source": [
    "Logical Errors"
   ]
  },
  {
   "cell_type": "code",
   "execution_count": 16,
   "metadata": {},
   "outputs": [
    {
     "name": "stdout",
     "output_type": "stream",
     "text": [
      "10\n"
     ]
    }
   ],
   "source": [
    "# my_name = \"Peter\"\n",
    "# if my_name == \"David\" or \"John\":\n",
    "#     print(my_name)\n",
    "\n",
    "\n",
    "\n",
    "# num1 = 10\n",
    "# num2 = 10\n",
    "# average = num1 + num2 /2\n",
    "# print(average)\n",
    "\n",
    "\n",
    "total = 0\n",
    "for i in range(10):\n",
    "    total += 1\n",
    "print(total)"
   ]
  },
  {
   "cell_type": "markdown",
   "metadata": {},
   "source": [
    "# Thank you for joining!\n",
    "\n",
    "## Please remember to:\n",
    "- Take regular breaks.\n",
    "- Stay hydrated.\n",
    "- Avoid prolonged screen time.\n",
    "- Remember to have fun :)\n"
   ]
  }
 ],
 "metadata": {
  "kernelspec": {
   "display_name": "Python 3",
   "language": "python",
   "name": "python3"
  },
  "language_info": {
   "codemirror_mode": {
    "name": "ipython",
    "version": 3
   },
   "file_extension": ".py",
   "mimetype": "text/x-python",
   "name": "python",
   "nbconvert_exporter": "python",
   "pygments_lexer": "ipython3",
   "version": "3.11.4"
  },
  "orig_nbformat": 4
 },
 "nbformat": 4,
 "nbformat_minor": 2
}
